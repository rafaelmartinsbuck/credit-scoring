{
 "cells": [
  {
   "cell_type": "markdown",
   "metadata": {
    "collapsed": true
   },
   "source": [
    "# Using Machine Learning to Credit Scoring\n",
    "#### Rafael Buck\n",
    "\n",
    "## 1. Introduction\n",
    "\n",
    "Banks and fintechs have a crucial role in modern economies and the people empowerment. For markets and society accelerate their activities, individuals and companies need access to credit. \n",
    "\n",
    "A credit score is a numerical expression based on a level analysis of a person's credit records, to represent the creditworthiness of an individual. Traditionally, a credit score was primarily based on credit report information typically sourced from credit bureaus. However, with the proliferation of data science, institutions of any size can develop their credit scoring system and sharpen them for applications to their target markets.\n",
    "\n",
    "The goal of this analysis is to build a model that borrowers can use to help make the best financial decisions."
   ]
  },
  {
   "cell_type": "markdown",
   "metadata": {},
   "source": [
    "## 2. Problem\n",
    "\n",
    "In the calculation of loan risks, the banks have to take into account some variables: the probability of default (PD), which means that the borrower is not likely to honor its debt; the bank's exposure at default (EAD) and the loss given default (LGD). In this analysis, we will use machine learning to predicts the probability of default (PD).\n",
    "\n",
    "So, the questions to be answared is: \"*Given a loan application, will it be paid or not?*\""
   ]
  },
  {
   "cell_type": "markdown",
   "metadata": {},
   "source": [
    "## 3. Dataset\n",
    "\n",
    "We will use a real Dataset from __[Lending Club](https://www.lendingclub.com)__. Lending Club is a US peer-to-peer lending company, headquartered in San Francisco, California. Lending Club is the world's largest peer-to-peer lending platform. The company states that $33 billion in loans had been originated through its platform up to 31 December 2017 (https://www.lendingclub.com/info/statistics.action)."
   ]
  },
  {
   "cell_type": "code",
   "execution_count": null,
   "metadata": {
    "collapsed": true
   },
   "outputs": [],
   "source": []
  },
  {
   "cell_type": "markdown",
   "metadata": {},
   "source": [
    "## 4. Data Exploration"
   ]
  },
  {
   "cell_type": "code",
   "execution_count": null,
   "metadata": {
    "collapsed": true
   },
   "outputs": [],
   "source": []
  },
  {
   "cell_type": "markdown",
   "metadata": {},
   "source": [
    "## 5. Model"
   ]
  },
  {
   "cell_type": "code",
   "execution_count": null,
   "metadata": {
    "collapsed": true
   },
   "outputs": [],
   "source": []
  },
  {
   "cell_type": "markdown",
   "metadata": {},
   "source": [
    "## 6. Validation"
   ]
  },
  {
   "cell_type": "code",
   "execution_count": null,
   "metadata": {
    "collapsed": true
   },
   "outputs": [],
   "source": []
  },
  {
   "cell_type": "markdown",
   "metadata": {},
   "source": [
    "## 7. References\n",
    "\n",
    "> Lending Club Statistics: https://www.lendingclub.com/info/download-data.action"
   ]
  }
 ],
 "metadata": {
  "kernelspec": {
   "display_name": "Python 3",
   "language": "python",
   "name": "python3"
  },
  "language_info": {
   "codemirror_mode": {
    "name": "ipython",
    "version": 3
   },
   "file_extension": ".py",
   "mimetype": "text/x-python",
   "name": "python",
   "nbconvert_exporter": "python",
   "pygments_lexer": "ipython3",
   "version": "3.5.0"
  }
 },
 "nbformat": 4,
 "nbformat_minor": 2
}
