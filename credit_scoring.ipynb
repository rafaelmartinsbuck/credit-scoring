{
 "cells": [
  {
   "cell_type": "markdown",
   "metadata": {
    "collapsed": true
   },
   "source": [
    "# Using Machine Learning to Credit Scoring\n",
    "#### Rafael Buck\n",
    "\n",
    "## 1. Introduction\n",
    "\n",
    "Banks and fintechs have a crucial role in modern economies and the people empowerment. For markets and society accelerate their activities, individuals and companies need access to credit. \n",
    "\n",
    "A credit score is a numerical expression based on a level analysis of a person's credit records, to represent the creditworthiness of an individual. Traditionally, a credit score was primarily based on credit report information typically sourced from credit bureaus. However, with the proliferation of data science, institutions of any size can develop their credit scoring system and sharpen them for applications to their target markets.\n",
    "\n",
    "The goal of this analysis is to build a model that borrowers can use to help make the best financial decisions."
   ]
  },
  {
   "cell_type": "markdown",
   "metadata": {},
   "source": [
    "## 2. Business Understanding\n",
    "\n",
    "In the calculation of loan risks, the banks have to take into account some variables: the probability of default (PD), which means that the borrower is not likely to honor its debt; the bank's exposure at default (EAD) and the loss given default (LGD). In this analysis, we will use machine learning to predicts the probability of default (PD).\n",
    "\n",
    "So, the questions to be answared is: \"*Given a loan application, will it be paid or not?*\""
   ]
  },
  {
   "cell_type": "markdown",
   "metadata": {},
   "source": [
    "## 3. Data Understanding\n",
    "\n",
    "We will use a real Dataset from __[Lending Club](https://www.lendingclub.com)__. Lending Club is a US peer-to-peer lending company, headquartered in San Francisco, California. Lending Club is the world's largest peer-to-peer lending platform. The company states that $33 billion in loans had been originated through its platform up to 31 December 2017 (https://www.lendingclub.com/info/statistics.action)."
   ]
  },
  {
   "cell_type": "code",
   "execution_count": 34,
   "metadata": {
    "collapsed": true
   },
   "outputs": [],
   "source": [
    "# TODO: import libs\n",
    "import pandas as pd \n",
    "import numpy as np\n",
    "import datetime\n",
    "import seaborn as sns\n",
    "import matplotlib.pyplot as plt\n",
    "%matplotlib inline"
   ]
  },
  {
   "cell_type": "code",
   "execution_count": 35,
   "metadata": {},
   "outputs": [
    {
     "name": "stdout",
     "output_type": "stream",
     "text": [
      "<class 'pandas.core.frame.DataFrame'>\n",
      "RangeIndex: 118650 entries, 0 to 118649\n",
      "Columns: 145 entries, id to settlement_term\n",
      "dtypes: float64(107), object(38)\n",
      "memory usage: 131.3+ MB\n"
     ]
    }
   ],
   "source": [
    "# TODO: load dataset\n",
    "loans = pd.read_csv(\"LoanStats_2017Q4.csv\", skiprows=1, low_memory=False, infer_datetime_format = True) # Ignore the first row (is a comment)\n",
    "loans.info()"
   ]
  },
  {
   "cell_type": "code",
   "execution_count": 36,
   "metadata": {},
   "outputs": [
    {
     "name": "stdout",
     "output_type": "stream",
     "text": [
      "<class 'pandas.core.frame.DataFrame'>\n",
      "RangeIndex: 118650 entries, 0 to 118649\n",
      "Columns: 102 entries, loan_amnt to debt_settlement_flag\n",
      "dtypes: float64(77), object(25)\n",
      "memory usage: 92.3+ MB\n"
     ]
    }
   ],
   "source": [
    "half_count = len(loans)/2\n",
    "loans = loans.dropna(thresh=half_count,axis=1) # Drop any column with more than 50% missing values\n",
    "loans.info()"
   ]
  },
  {
   "cell_type": "code",
   "execution_count": 37,
   "metadata": {},
   "outputs": [
    {
     "data": {
      "text/html": [
       "<div>\n",
       "<style>\n",
       "    .dataframe thead tr:only-child th {\n",
       "        text-align: right;\n",
       "    }\n",
       "\n",
       "    .dataframe thead th {\n",
       "        text-align: left;\n",
       "    }\n",
       "\n",
       "    .dataframe tbody tr th {\n",
       "        vertical-align: top;\n",
       "    }\n",
       "</style>\n",
       "<table border=\"1\" class=\"dataframe\">\n",
       "  <thead>\n",
       "    <tr style=\"text-align: right;\">\n",
       "      <th></th>\n",
       "      <th>loan_amnt</th>\n",
       "      <th>funded_amnt</th>\n",
       "      <th>funded_amnt_inv</th>\n",
       "      <th>term</th>\n",
       "      <th>int_rate</th>\n",
       "      <th>installment</th>\n",
       "      <th>grade</th>\n",
       "      <th>sub_grade</th>\n",
       "      <th>emp_title</th>\n",
       "      <th>emp_length</th>\n",
       "      <th>...</th>\n",
       "      <th>percent_bc_gt_75</th>\n",
       "      <th>pub_rec_bankruptcies</th>\n",
       "      <th>tax_liens</th>\n",
       "      <th>tot_hi_cred_lim</th>\n",
       "      <th>total_bal_ex_mort</th>\n",
       "      <th>total_bc_limit</th>\n",
       "      <th>total_il_high_credit_limit</th>\n",
       "      <th>hardship_flag</th>\n",
       "      <th>disbursement_method</th>\n",
       "      <th>debt_settlement_flag</th>\n",
       "    </tr>\n",
       "  </thead>\n",
       "  <tbody>\n",
       "    <tr>\n",
       "      <th>0</th>\n",
       "      <td>35000.0</td>\n",
       "      <td>35000.0</td>\n",
       "      <td>35000.0</td>\n",
       "      <td>60 months</td>\n",
       "      <td>11.99%</td>\n",
       "      <td>778.38</td>\n",
       "      <td>B</td>\n",
       "      <td>B5</td>\n",
       "      <td>Project Manager</td>\n",
       "      <td>&lt; 1 year</td>\n",
       "      <td>...</td>\n",
       "      <td>50.0</td>\n",
       "      <td>0.0</td>\n",
       "      <td>0.0</td>\n",
       "      <td>73825.0</td>\n",
       "      <td>51125.0</td>\n",
       "      <td>33000.0</td>\n",
       "      <td>35182.0</td>\n",
       "      <td>N</td>\n",
       "      <td>Cash</td>\n",
       "      <td>N</td>\n",
       "    </tr>\n",
       "    <tr>\n",
       "      <th>1</th>\n",
       "      <td>6000.0</td>\n",
       "      <td>6000.0</td>\n",
       "      <td>6000.0</td>\n",
       "      <td>36 months</td>\n",
       "      <td>7.35%</td>\n",
       "      <td>186.23</td>\n",
       "      <td>A</td>\n",
       "      <td>A4</td>\n",
       "      <td>Business Development</td>\n",
       "      <td>1 year</td>\n",
       "      <td>...</td>\n",
       "      <td>50.0</td>\n",
       "      <td>0.0</td>\n",
       "      <td>0.0</td>\n",
       "      <td>42988.0</td>\n",
       "      <td>6100.0</td>\n",
       "      <td>8300.0</td>\n",
       "      <td>18388.0</td>\n",
       "      <td>N</td>\n",
       "      <td>Cash</td>\n",
       "      <td>N</td>\n",
       "    </tr>\n",
       "    <tr>\n",
       "      <th>2</th>\n",
       "      <td>40000.0</td>\n",
       "      <td>40000.0</td>\n",
       "      <td>40000.0</td>\n",
       "      <td>36 months</td>\n",
       "      <td>6.08%</td>\n",
       "      <td>1218.33</td>\n",
       "      <td>A</td>\n",
       "      <td>A2</td>\n",
       "      <td>Editor/Writer</td>\n",
       "      <td>&lt; 1 year</td>\n",
       "      <td>...</td>\n",
       "      <td>0.0</td>\n",
       "      <td>0.0</td>\n",
       "      <td>0.0</td>\n",
       "      <td>596402.0</td>\n",
       "      <td>53711.0</td>\n",
       "      <td>58000.0</td>\n",
       "      <td>20902.0</td>\n",
       "      <td>N</td>\n",
       "      <td>Cash</td>\n",
       "      <td>N</td>\n",
       "    </tr>\n",
       "    <tr>\n",
       "      <th>3</th>\n",
       "      <td>10000.0</td>\n",
       "      <td>10000.0</td>\n",
       "      <td>10000.0</td>\n",
       "      <td>60 months</td>\n",
       "      <td>23.88%</td>\n",
       "      <td>286.99</td>\n",
       "      <td>E</td>\n",
       "      <td>E2</td>\n",
       "      <td>EMT</td>\n",
       "      <td>10+ years</td>\n",
       "      <td>...</td>\n",
       "      <td>100.0</td>\n",
       "      <td>0.0</td>\n",
       "      <td>0.0</td>\n",
       "      <td>42900.0</td>\n",
       "      <td>34122.0</td>\n",
       "      <td>27100.0</td>\n",
       "      <td>0.0</td>\n",
       "      <td>N</td>\n",
       "      <td>Cash</td>\n",
       "      <td>N</td>\n",
       "    </tr>\n",
       "    <tr>\n",
       "      <th>4</th>\n",
       "      <td>27000.0</td>\n",
       "      <td>27000.0</td>\n",
       "      <td>27000.0</td>\n",
       "      <td>60 months</td>\n",
       "      <td>9.93%</td>\n",
       "      <td>572.75</td>\n",
       "      <td>B</td>\n",
       "      <td>B2</td>\n",
       "      <td>Data Scientist</td>\n",
       "      <td>3 years</td>\n",
       "      <td>...</td>\n",
       "      <td>0.0</td>\n",
       "      <td>0.0</td>\n",
       "      <td>0.0</td>\n",
       "      <td>166381.0</td>\n",
       "      <td>99838.0</td>\n",
       "      <td>48500.0</td>\n",
       "      <td>113281.0</td>\n",
       "      <td>N</td>\n",
       "      <td>Cash</td>\n",
       "      <td>N</td>\n",
       "    </tr>\n",
       "  </tbody>\n",
       "</table>\n",
       "<p>5 rows × 102 columns</p>\n",
       "</div>"
      ],
      "text/plain": [
       "   loan_amnt  funded_amnt  funded_amnt_inv        term int_rate  installment  \\\n",
       "0    35000.0      35000.0          35000.0   60 months   11.99%       778.38   \n",
       "1     6000.0       6000.0           6000.0   36 months    7.35%       186.23   \n",
       "2    40000.0      40000.0          40000.0   36 months    6.08%      1218.33   \n",
       "3    10000.0      10000.0          10000.0   60 months   23.88%       286.99   \n",
       "4    27000.0      27000.0          27000.0   60 months    9.93%       572.75   \n",
       "\n",
       "  grade sub_grade             emp_title emp_length         ...           \\\n",
       "0     B        B5      Project Manager    < 1 year         ...            \n",
       "1     A        A4  Business Development     1 year         ...            \n",
       "2     A        A2         Editor/Writer   < 1 year         ...            \n",
       "3     E        E2                   EMT  10+ years         ...            \n",
       "4     B        B2        Data Scientist    3 years         ...            \n",
       "\n",
       "  percent_bc_gt_75  pub_rec_bankruptcies tax_liens tot_hi_cred_lim  \\\n",
       "0             50.0                   0.0       0.0         73825.0   \n",
       "1             50.0                   0.0       0.0         42988.0   \n",
       "2              0.0                   0.0       0.0        596402.0   \n",
       "3            100.0                   0.0       0.0         42900.0   \n",
       "4              0.0                   0.0       0.0        166381.0   \n",
       "\n",
       "  total_bal_ex_mort total_bc_limit total_il_high_credit_limit hardship_flag  \\\n",
       "0           51125.0        33000.0                    35182.0             N   \n",
       "1            6100.0         8300.0                    18388.0             N   \n",
       "2           53711.0        58000.0                    20902.0             N   \n",
       "3           34122.0        27100.0                        0.0             N   \n",
       "4           99838.0        48500.0                   113281.0             N   \n",
       "\n",
       "  disbursement_method debt_settlement_flag  \n",
       "0                Cash                    N  \n",
       "1                Cash                    N  \n",
       "2                Cash                    N  \n",
       "3                Cash                    N  \n",
       "4                Cash                    N  \n",
       "\n",
       "[5 rows x 102 columns]"
      ]
     },
     "execution_count": 37,
     "metadata": {},
     "output_type": "execute_result"
    }
   ],
   "source": [
    "loans.head()"
   ]
  },
  {
   "cell_type": "code",
   "execution_count": 38,
   "metadata": {},
   "outputs": [
    {
     "name": "stdout",
     "output_type": "stream",
     "text": [
      "loan_amnt                                  35000\n",
      "funded_amnt                                35000\n",
      "funded_amnt_inv                            35000\n",
      "term                                   60 months\n",
      "int_rate                                  11.99%\n",
      "installment                               778.38\n",
      "grade                                          B\n",
      "sub_grade                                     B5\n",
      "emp_title                       Project Manager \n",
      "emp_length                              < 1 year\n",
      "home_ownership                              RENT\n",
      "annual_inc                                 65000\n",
      "verification_status              Source Verified\n",
      "issue_d                                 Dec-2017\n",
      "loan_status                              Current\n",
      "pymnt_plan                                     n\n",
      "purpose                       debt_consolidation\n",
      "title                         Debt consolidation\n",
      "zip_code                                   926xx\n",
      "addr_state                                    CA\n",
      "dti                                        26.81\n",
      "delinq_2yrs                                    0\n",
      "earliest_cr_line                        Oct-2005\n",
      "inq_last_6mths                                 0\n",
      "open_acc                                       5\n",
      "pub_rec                                        0\n",
      "revol_bal                                  21026\n",
      "revol_util                                 63.7%\n",
      "total_acc                                     16\n",
      "initial_list_status                            w\n",
      "                                     ...        \n",
      "mo_sin_rcnt_rev_tl_op                         37\n",
      "mo_sin_rcnt_tl                                17\n",
      "mort_acc                                       0\n",
      "mths_since_recent_bc                          37\n",
      "mths_since_recent_inq                        NaN\n",
      "num_accts_ever_120_pd                          0\n",
      "num_actv_bc_tl                                 2\n",
      "num_actv_rev_tl                                2\n",
      "num_bc_sats                                    2\n",
      "num_bc_tl                                      2\n",
      "num_il_tl                                     12\n",
      "num_op_rev_tl                                  2\n",
      "num_rev_accts                                  3\n",
      "num_rev_tl_bal_gt_0                            2\n",
      "num_sats                                       5\n",
      "num_tl_120dpd_2m                               0\n",
      "num_tl_30dpd                                   0\n",
      "num_tl_90g_dpd_24m                             0\n",
      "num_tl_op_past_12m                             0\n",
      "pct_tl_nvr_dlq                               100\n",
      "percent_bc_gt_75                              50\n",
      "pub_rec_bankruptcies                           0\n",
      "tax_liens                                      0\n",
      "tot_hi_cred_lim                            73825\n",
      "total_bal_ex_mort                          51125\n",
      "total_bc_limit                             33000\n",
      "total_il_high_credit_limit                 35182\n",
      "hardship_flag                                  N\n",
      "disbursement_method                         Cash\n",
      "debt_settlement_flag                           N\n",
      "Name: 0, Length: 102, dtype: object\n"
     ]
    }
   ],
   "source": [
    "print(loans.iloc[0]) #print a sample"
   ]
  },
  {
   "cell_type": "code",
   "execution_count": 39,
   "metadata": {},
   "outputs": [
    {
     "data": {
      "text/plain": [
       "array(['Current', 'Fully Paid', 'Late (31-120 days)', 'Late (16-30 days)',\n",
       "       'In Grace Period', 'Charged Off', nan], dtype=object)"
      ]
     },
     "execution_count": 39,
     "metadata": {},
     "output_type": "execute_result"
    }
   ],
   "source": [
    "loans['loan_status'].unique()"
   ]
  },
  {
   "cell_type": "code",
   "execution_count": 40,
   "metadata": {},
   "outputs": [
    {
     "data": {
      "text/plain": [
       "<matplotlib.axes._subplots.AxesSubplot at 0x1171add68>"
      ]
     },
     "execution_count": 40,
     "metadata": {},
     "output_type": "execute_result"
    },
    {
     "data": {
      "image/png": "[encoded data removed]",
      "text/plain": [
       "<matplotlib.figure.Figure at 0x1172dc518>"
      ]
     },
     "metadata": {},
     "output_type": "display_data"
    }
   ],
   "source": [
    "plt.figure(figsize = (10,7))\n",
    "sns.countplot(x=\"loan_status\", data=loans)"
   ]
  },
  {
   "cell_type": "markdown",
   "metadata": {},
   "source": [
    "## 4. Data Preparation\n",
    "\n",
    "We need to predict if a current loan will turn into overdue or not. So, lets separate all `Current` loans in a test dataset to we use later. And train our model with loans that we know that turned in overdue or not."
   ]
  },
  {
   "cell_type": "code",
   "execution_count": 41,
   "metadata": {
    "collapsed": true
   },
   "outputs": [],
   "source": [
    "test_loans = pd.DataFrame(data = loans[loans['loan_status'] == 'Current'], copy = True) #work later (we will use it for the prediction)\n",
    "loans = loans[loans['loan_status'] != 'Current'] #work only with 100% of overdue or not overdue"
   ]
  },
  {
   "cell_type": "code",
   "execution_count": 42,
   "metadata": {},
   "outputs": [
    {
     "data": {
      "text/plain": [
       "<matplotlib.axes._subplots.AxesSubplot at 0x114c6d208>"
      ]
     },
     "execution_count": 42,
     "metadata": {},
     "output_type": "execute_result"
    },
    {
     "data": {
      "image/png": "[encoded data removed]",
      "text/plain": [
       "<matplotlib.figure.Figure at 0x114c60d68>"
      ]
     },
     "metadata": {},
     "output_type": "display_data"
    }
   ],
   "source": [
    "# TODO: find relationships, analyze outliers, and create new ones\n",
    "loans['overdue'] = np.where((loans['loan_status'] == 'Fully Paid'), \n",
    "                            0,\n",
    "                            1)\n",
    "plt.figure(figsize = (4,6))\n",
    "sns.countplot(x=\"overdue\", data=loans)"
   ]
  },
  {
   "cell_type": "code",
   "execution_count": 43,
   "metadata": {},
   "outputs": [
    {
     "name": "stdout",
     "output_type": "stream",
     "text": [
      "Total of samples:  5607\n",
      "Non-Overdue: 68.539%\n",
      "Overdue: 31.461%\n"
     ]
    }
   ],
   "source": [
    "overdue_percentage = 100* loans[loans[\"overdue\"] == 1].shape[0]/loans.shape[0]\n",
    "ok_percentage = 100 * loans[loans[\"overdue\"] == 0].shape[0]/loans.shape[0]\n",
    "\n",
    "print(\"Total of samples: \", loans.shape[0])\n",
    "print(\"Non-Overdue: {:.3f}%\".format(ok_percentage))\n",
    "print(\"Overdue: {:.3f}%\".format(overdue_percentage))"
   ]
  },
  {
   "cell_type": "code",
   "execution_count": null,
   "metadata": {
    "collapsed": true
   },
   "outputs": [],
   "source": [
    "# TODO: Feature Selection"
   ]
  },
  {
   "cell_type": "code",
   "execution_count": null,
   "metadata": {
    "collapsed": true
   },
   "outputs": [],
   "source": [
    "# TODO: Feature Encoding"
   ]
  },
  {
   "cell_type": "code",
   "execution_count": null,
   "metadata": {
    "collapsed": true
   },
   "outputs": [],
   "source": [
    "# TODO: Normalization"
   ]
  },
  {
   "cell_type": "code",
   "execution_count": null,
   "metadata": {
    "collapsed": true
   },
   "outputs": [],
   "source": [
    "# TODO: Dimension Reduction (PCA)"
   ]
  },
  {
   "cell_type": "markdown",
   "metadata": {},
   "source": [
    "## 5. Model"
   ]
  },
  {
   "cell_type": "code",
   "execution_count": null,
   "metadata": {
    "collapsed": true
   },
   "outputs": [],
   "source": [
    "# TODO: try feature selection, scikit-learn models"
   ]
  },
  {
   "cell_type": "markdown",
   "metadata": {},
   "source": [
    "## 6. Validation"
   ]
  },
  {
   "cell_type": "code",
   "execution_count": null,
   "metadata": {
    "collapsed": true
   },
   "outputs": [],
   "source": [
    "# TODO: cross validation, model tuning"
   ]
  },
  {
   "cell_type": "code",
   "execution_count": null,
   "metadata": {
    "collapsed": true
   },
   "outputs": [],
   "source": [
    "# TODO: benchmark with 2018 Q1 (if some predicted loan of 2017Q4 closed as overdue or not in 2018Q1)"
   ]
  },
  {
   "cell_type": "markdown",
   "metadata": {},
   "source": [
    "## 7. References\n",
    "\n",
    "> Lending Club Statistics: https://www.lendingclub.com/info/download-data.action"
   ]
  }
 ],
 "metadata": {
  "kernelspec": {
   "display_name": "Python 3",
   "language": "python",
   "name": "python3"
  },
  "language_info": {
   "codemirror_mode": {
    "name": "ipython",
    "version": 3
   },
   "file_extension": ".py",
   "mimetype": "text/x-python",
   "name": "python",
   "nbconvert_exporter": "python",
   "pygments_lexer": "ipython3",
   "version": "3.5.0"
  }
 },
 "nbformat": 4,
 "nbformat_minor": 2
}
